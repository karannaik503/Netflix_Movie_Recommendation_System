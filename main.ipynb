{
 "cells": [
  {
   "cell_type": "code",
   "execution_count": 1,
   "metadata": {},
   "outputs": [
    {
     "data": {
      "text/plain": [
       "<module 'hypothesis_tests' from 'c:\\\\Users\\\\digitshikeb\\\\Desktop\\\\stat\\\\hypothesis_tests.py'>"
      ]
     },
     "execution_count": 1,
     "metadata": {},
     "output_type": "execute_result"
    }
   ],
   "source": [
    "import matplotlib.pyplot as plt\n",
    "from collections import Counter\n",
    "from termcolor import colored\n",
    "\n",
    "import sampling as sm\n",
    "import hypothesis_tests as test\n",
    "import movie_sample as movies\n",
    "from importlib import reload\n",
    "import random\n",
    "reload(test)"
   ]
  },
  {
   "cell_type": "code",
   "execution_count": 2,
   "metadata": {},
   "outputs": [],
   "source": [
    "filename = 'combined_data_1.csv'\n",
    "df = sm.create_dataframe(filename)\n"
   ]
  },
  {
   "cell_type": "code",
   "execution_count": 3,
   "metadata": {},
   "outputs": [],
   "source": [
    "reload(test)\n",
    "movie1 = '3864' #Batman Begins\n",
    "movie2 = \"3925\" #The matrix reloaded\n",
    "result_df = test.create_paired_sample(df, movie1, movie2)\n"
   ]
  },
  {
   "cell_type": "code",
   "execution_count": 4,
   "metadata": {},
   "outputs": [
    {
     "name": "stdout",
     "output_type": "stream",
     "text": [
      "3.3051581750237733\n",
      "3.1977026492827436\n",
      "1.3902832177888733\n",
      "1.6470592885208855\n"
     ]
    }
   ],
   "source": [
    "pop_mean1 = sm.population_mean1() #pop1 = movies before 2000\n",
    "pop_mean2 = sm.population_mean2() #pop2 = movies after 2000\n",
    "\n",
    "print(pop_mean1)\n",
    "print(pop_mean2)\n",
    "pop_variance1 = sm.population_variance1(pop_mean1)\n",
    "pop_variance2 = sm.population_variance2(pop_mean2)\n",
    "print(pop_variance1)\n",
    "print(pop_variance2)"
   ]
  },
  {
   "cell_type": "code",
   "execution_count": 5,
   "metadata": {},
   "outputs": [],
   "source": [
    "movies1 = movies.select_random_movies1('movie_titles.csv', 100) #array of movie ids before 2000s\n",
    "movies2 = movies.select_random_movies2('movie_titles.csv', 100) #array of movie ids after 2000s\n",
    "random_movies1 = list(map(str, movies1))\n",
    "random_movies2 = list(map(str, movies2))\n",
    "# random_for_chi2 = random.sample(random_movies1, 2)"
   ]
  },
  {
   "cell_type": "code",
   "execution_count": 6,
   "metadata": {},
   "outputs": [
    {
     "name": "stdout",
     "output_type": "stream",
     "text": [
      "         movieid   userid  rating        date\n",
      "352693       100  2625420       1  2004-06-03\n",
      "352694       100  1199825       3  2002-08-01\n",
      "352695       100  2085613       2  2002-12-20\n",
      "352696       100  2215923       2  2004-03-14\n",
      "352697       100  1731066       5  2002-08-10\n",
      "...          ...      ...     ...         ...\n",
      "23805273    4440   309424       3  2004-12-08\n",
      "23805274    4440  2111672       3  2003-01-03\n",
      "23805275    4440  2537473       1  2003-04-21\n",
      "23805276    4440  1300759       3  2004-09-30\n",
      "23805277    4440  1550207       4  2004-03-12\n",
      "\n",
      "[547308 rows x 4 columns]\n"
     ]
    }
   ],
   "source": [
    "filtered_df1 = df[df['movieid'].isin(random_movies1)] #dataframe containing movies given in the random movies array\n",
    "filtered_df2 = df[df['movieid'].isin(random_movies2)]\n",
    "print(filtered_df1)\n",
    "dataset1 = filtered_df1.sample(n=100, random_state=42)['rating'].tolist()\n",
    "dataset2 = filtered_df2.sample(n=100, random_state=42)['rating'].tolist()\n",
    "sample_dataset1 = list(map(int, dataset1))\n",
    "sample_dataset2 = list(map(int, dataset2))\n",
    "\n",
    "dataset3 = filtered_df1.sample(n=45, random_state=42)['rating'].tolist()\n",
    "dataset4 = filtered_df2.sample(n=50, random_state=42)['rating'].tolist()\n",
    "sample_dataset3 = list(map(int, dataset3))\n",
    "sample_dataset4 = list(map(int, dataset4))\n",
    "# sample_dataset1_small = sm.get_sample(filename, random_movies1, 26)\n",
    "# sample_dataset2_small = sm.get_sample(filename, random_movies2, 23)\n"
   ]
  },
  {
   "cell_type": "code",
   "execution_count": null,
   "metadata": {},
   "outputs": [],
   "source": []
  },
  {
   "cell_type": "code",
   "execution_count": 7,
   "metadata": {},
   "outputs": [],
   "source": [
    "paired_sample = result_df.sample(n=25, random_state=42)\n",
    "paired_sample2 = result_df.sample(n = 20, random_state=36)\n",
    "paired_sample3 = result_df.sample(n = 35, random_state=26)\n",
    "\n"
   ]
  },
  {
   "cell_type": "code",
   "execution_count": 8,
   "metadata": {},
   "outputs": [],
   "source": [
    "reload(test)\n",
    "small_sample1 = random.sample(sample_dataset1, 25)\n",
    "small_sample2 = random.sample(sample_dataset1, 20)\n"
   ]
  },
  {
   "cell_type": "markdown",
   "metadata": {},
   "source": [
    "# UNIT 2"
   ]
  },
  {
   "cell_type": "markdown",
   "metadata": {},
   "source": [
    "### 1. One sample z-tests"
   ]
  },
  {
   "cell_type": "code",
   "execution_count": 9,
   "metadata": {},
   "outputs": [
    {
     "name": "stdout",
     "output_type": "stream",
     "text": [
      "\u001b[97m-----------------------Z-TEST 1 SAMPLE----------------------\u001b[0m\n",
      "Sample size:  100\n",
      "\t\tH0: Movies before 2000 had an average rating >= 3.9\n",
      "\t\tHa: Movies before 2000 had an average rating < 3.9\n",
      "\n",
      "alpha:  0.05\n",
      "z-statistic, z-critical: -0.72, -1.64\n",
      "-0.72 > -1.64\n",
      "\u001b[32mleft tailed test at alpha 0.05:\t Hypothesis accepted | H0: mean >= 3.9\u001b[0m\n",
      "---------------------------------------------\n",
      "Sample size:  100\n",
      "\t\tH0: Movies after 2000 had an average rating <= 3.9\n",
      "\t\tHa: Movies after 2000 had an average rating > 3.9\n",
      "\n",
      "alpha:  0.05\n",
      "z-statistic, z-critical: -3.81, 1.64\n",
      "-3.81 < 1.64\n",
      "\u001b[32mright tailed test at alpha 0.05:\t Hypothesis accepted | H0: mean <= 3.9\u001b[0m\n",
      "---------------------------------------------\n",
      "Sample size:  50\n",
      "\t\tH0: Movies after 2000 had an average rating = 3.9\n",
      "\t\tHa: Movies after 2000 had an average rating != 3.9\n",
      "\n",
      "alpha:  0.05\n",
      "z-statistic, z-critical: -3.46, 1.96\n",
      "| -3.46 | > 1.96\n",
      "\u001b[31mtwo tailed test at alpha 0.05:\t Hypothesis rejected | H0: mean = 3.9\u001b[0m\n"
     ]
    }
   ],
   "source": [
    "reload(test)\n",
    "null_hypothesis_mean = 3.9\n",
    "\n",
    "print(colored(\"-----------------------Z-TEST 1 SAMPLE----------------------\", 'white'))\n",
    "# print(sample_dataset1)\n",
    "print(\"Sample size: \", len(sample_dataset1))\n",
    "print(\"\\t\\tH0: Movies before 2000 had an average rating >= %.1f\"%null_hypothesis_mean)\n",
    "print(\"\\t\\tHa: Movies before 2000 had an average rating < %.1f\\n\"%null_hypothesis_mean)\n",
    "\n",
    "\n",
    "test.left_tailed_z_test(sample_dataset1, null_hypothesis_mean, pop_variance1, 0.05)\n",
    "print(\"---------------------------------------------\")\n",
    "# print(sample_dataset2)\n",
    "print(\"Sample size: \", len(sample_dataset2))\n",
    "print(\"\\t\\tH0: Movies after 2000 had an average rating <= %.1f\"%null_hypothesis_mean)\n",
    "print(\"\\t\\tHa: Movies after 2000 had an average rating > %.1f\\n\"%null_hypothesis_mean)\n",
    "\n",
    "test.right_tailed_z_test(sample_dataset2, null_hypothesis_mean, pop_variance1, 0.05)\n",
    "print(\"---------------------------------------------\")\n",
    "# print(sample_dataset4)\n",
    "print(\"Sample size: \", len(sample_dataset4))\n",
    "print(\"\\t\\tH0: Movies after 2000 had an average rating = %.1f\"%null_hypothesis_mean)\n",
    "print(\"\\t\\tHa: Movies after 2000 had an average rating != %.1f\\n\"%null_hypothesis_mean)\n",
    "\n",
    "test.two_tailed_z_test(sample_dataset4, null_hypothesis_mean, pop_variance1, 0.05)\n"
   ]
  },
  {
   "cell_type": "markdown",
   "metadata": {},
   "source": [
    "### 2. Two sample z-test\n"
   ]
  },
  {
   "cell_type": "markdown",
   "metadata": {},
   "source": [
    "20th century movies have same average rating as 21st century movies"
   ]
  },
  {
   "cell_type": "markdown",
   "metadata": {},
   "source": [
    "H0: mean(movies relased before 2000) == mean(movies released after 2000)<br>\n",
    "Ha: mean(movies relased before 2000) != mean(movies released after 2000)"
   ]
  },
  {
   "cell_type": "code",
   "execution_count": 10,
   "metadata": {},
   "outputs": [
    {
     "name": "stdout",
     "output_type": "stream",
     "text": [
      "\u001b[97m\n",
      "-----------------------Z-TEST 2 SAMPLE----------------------\u001b[0m\n",
      "[3, 4, 4, 5, 5, 4, 2, 4, 5, 4, 4, 3, 4, 3, 3, 5, 4, 3, 2, 4, 5, 3, 5, 4, 5, 3, 5, 3, 3, 4, 5, 2, 5, 4, 4, 4, 5, 5, 4, 4, 4, 3, 2, 4, 4, 5, 4, 3, 5, 2, 4, 5, 5, 5, 4, 4, 3, 3, 5, 4, 5, 4, 4, 3, 2, 5, 5, 4, 3, 2, 4, 5, 4, 1, 3, 5, 3, 3, 4, 4, 4, 5, 4, 2, 4, 3, 4, 4, 4, 3, 4, 4, 2, 5, 3, 3, 3, 2, 5, 4]\n",
      "[3, 4, 4, 1, 4, 3, 4, 1, 3, 2, 3, 4, 4, 3, 2, 2, 3, 4, 5, 4, 2, 3, 3, 5, 4, 4, 3, 4, 5, 3, 3, 3, 4, 2, 4, 2, 2, 3, 3, 3, 1, 4, 5, 1, 5, 3, 4, 3, 3, 4] \n",
      "\n",
      "Sample sizes n1, n2:  100 50\n",
      "\t\tH0: Movies were equally rated on average before and after year 2000\n",
      "\t\tHa: Movies released before and after year 2000 have different ratings\n",
      "\n",
      "alpha:  0.05\n",
      "z-statistic, z-critical: 2.90, 1.96\n",
      "| 2.90 | > 1.96\n",
      "\u001b[31mtwo sample z test at alpha 0.05:\t Hypothesis rejected | H0: mean1 = mean2\u001b[0m\n"
     ]
    }
   ],
   "source": [
    "#TEST 5 Two Sample ztest\n",
    "print(colored(\"\\n-----------------------Z-TEST 2 SAMPLE----------------------\",'white'))\n",
    "print(sample_dataset1)\n",
    "print(sample_dataset4,'\\n')\n",
    "print(\"Sample sizes n1, n2: \", len(sample_dataset1), len(sample_dataset4))\n",
    "print(\"\\t\\tH0: Movies were equally rated on average before and after year 2000\")\n",
    "print(\"\\t\\tHa: Movies released before and after year 2000 have different ratings\\n\")\n",
    "test.two_sample_test(sample_dataset1, sample_dataset2, 0.05)\n"
   ]
  },
  {
   "cell_type": "markdown",
   "metadata": {},
   "source": [
    "### 3. One sample t-tests\n"
   ]
  },
  {
   "cell_type": "markdown",
   "metadata": {},
   "source": [
    "In the section below we are testing our mean using small samples drawn randomly from the population"
   ]
  },
  {
   "cell_type": "code",
   "execution_count": 11,
   "metadata": {},
   "outputs": [
    {
     "name": "stdout",
     "output_type": "stream",
     "text": [
      "Sample ratings of movies released before 2000:  [5, 3, 4, 4, 5, 2, 4, 5, 2, 5, 3, 5, 4, 4, 4, 4, 5, 5, 4, 4, 4, 2, 4, 3, 4]\n",
      "Sample ratings of movies released after 2000:  [3, 4, 5, 3, 4, 2, 5, 5, 5, 3, 2, 3, 4, 4, 5, 3, 4, 5, 2, 5]\n",
      "\u001b[97m\n",
      "-----------------------T-TEST----------------------\u001b[0m\n",
      "\t\tH0: For movies released before 2000, mean >= 4.5\n",
      "\t\tHa: For movies released before 2000, mean < 4.5\n",
      "Sample size:  25\n",
      "Degrees of freedom:  24\n",
      "alpha:  0.05\n",
      "t-statistic, t-critical: -3.10, -1.71\n",
      "-3.10 < -1.71\n",
      "\u001b[31mleft tailed t-test at alpha 0.05:\t Hypothesis rejected | H0: mean >= 4.5\u001b[0m\n",
      "\n",
      "\n",
      "\t\tH0: For movies released after 2000, mean <= 4.5\n",
      "\t\tHa: For movies released after 2000, mean > 4.5\n",
      "Sample size:  20\n",
      "Degrees of freedom:  19\n",
      "alpha:  0.05\n",
      "t-statistic, t-critical: -2.91, 1.73\n",
      "-2.91 < 1.73\n",
      "\u001b[32mright tailed t-test at alpha 0.05:\t Hypothesis accepted | H0: mean <= 4.5\u001b[0m\n",
      "\n",
      "\n",
      "\t\tH0: For movies released before 2000, mean = 4.5\n",
      "\t\tHa: For movies released before 2000, mean != 4.5\n",
      "Sample size:  25\n",
      "Degrees of freedom:  24\n",
      "alpha:  0.05\n",
      "t-statistic, t-critical: -3.10, 2.06\n",
      "| -3.10 | > 2.06\n",
      "\u001b[31mtwo tailed t-test at alpha 0.05:\t Hypothesis rejected | H0: mean = 4.5\u001b[0m\n"
     ]
    }
   ],
   "source": [
    "print(\"Sample ratings of movies released before 2000: \",small_sample1)\n",
    "print(\"Sample ratings of movies released after 2000: \",small_sample2)\n",
    "\n",
    "null_hypothesis_mean = 4.5\n",
    "print(colored(\"\\n-----------------------T-TEST----------------------\",'white'))\n",
    "\n",
    "print(\"\\t\\tH0: For movies released before 2000, mean >= %.1f\"%null_hypothesis_mean)\n",
    "print(\"\\t\\tHa: For movies released before 2000, mean < %.1f\"%null_hypothesis_mean)\n",
    "test.left_tailed_t_test(small_sample1, null_hypothesis_mean, alpha=0.05)\n",
    "print('\\n')\n",
    "\n",
    "print(\"\\t\\tH0: For movies released after 2000, mean <= %.1f\"%null_hypothesis_mean)\n",
    "print(\"\\t\\tHa: For movies released after 2000, mean > %.1f\"%null_hypothesis_mean)\n",
    "test.right_tailed_t_test(small_sample2, null_hypothesis_mean, alpha=0.05)\n",
    "print('\\n')\n",
    "\n",
    "print(\"\\t\\tH0: For movies released before 2000, mean = %.1f\"%null_hypothesis_mean)\n",
    "print(\"\\t\\tHa: For movies released before 2000, mean != %.1f\"%null_hypothesis_mean)\n",
    "test.two_tailed_t_test(small_sample1, null_hypothesis_mean, alpha=0.05)"
   ]
  },
  {
   "cell_type": "markdown",
   "metadata": {},
   "source": [
    "### 4. Two independent sample t-test"
   ]
  },
  {
   "cell_type": "markdown",
   "metadata": {},
   "source": [
    "H0: average rating of movies before 2000 = avg rating of movies after 2000<br>\n",
    "Ha: Movies released before and after year 2000 have different ratings"
   ]
  },
  {
   "cell_type": "code",
   "execution_count": 12,
   "metadata": {},
   "outputs": [
    {
     "name": "stdout",
     "output_type": "stream",
     "text": [
      "\t\tH0: Movies were equally rated on average before and after year 2000\n",
      "\t\tHa: Movies released before and after year 2000 have different avg ratings\n",
      "\n",
      "[5, 3, 4, 4, 5, 2, 4, 5, 2, 5, 3, 5, 4, 4, 4, 4, 5, 5, 4, 4, 4, 2, 4, 3, 4]\n",
      "[3, 4, 5, 3, 4, 2, 5, 5, 5, 3, 2, 3, 4, 4, 5, 3, 4, 5, 2, 5]\n",
      "Sample sizes:  25 20\n",
      "Degrees of freedom:  43\n",
      "alpha:  0.01\n",
      "t-statistic, t-critical: 0.40, 2.70\n",
      "| 0.40 | < 2.70\n",
      "\u001b[32mtwo sample t test at alpha 0.01:\t Hypothesis accepted | H0: mean1 = mean2\u001b[0m\n"
     ]
    }
   ],
   "source": [
    "print(\"\\t\\tH0: Movies were equally rated on average before and after year 2000\")\n",
    "print(\"\\t\\tHa: Movies released before and after year 2000 have different avg ratings\\n\")\n",
    "test.two_sample_t_value_test(small_sample1, small_sample2, alpha=0.01)"
   ]
  },
  {
   "cell_type": "markdown",
   "metadata": {},
   "source": [
    "### 5. Two Paired Sample t-test "
   ]
  },
  {
   "cell_type": "markdown",
   "metadata": {},
   "source": [
    "<img src = \"https://static.wixstatic.com/media/30d72e_9fb54b6affb44752bcf4199fdcd25d1d~mv2.jpg/v1/fill/w_1000,h_563,al_c,q_85,usm_0.66_1.00_0.01/30d72e_9fb54b6affb44752bcf4199fdcd25d1d~mv2.jpg\" style=\"width:500px;height:300px;\">\n",
    "<img src = \"https://m.media-amazon.com/images/S/pv-target-images/e915f8408760b928e3017d3a8b455f50a1810f25f319bf9159efe0627d812b08.jpg\" style=\"width:500px;height:300px;\">"
   ]
  },
  {
   "cell_type": "markdown",
   "metadata": {},
   "source": [
    " Our claim is users who liked 'Batman Begins' also preferred 'The Matrix: Reloaded' in the action genre.<br>\n",
    " This fact can be used to implement a reccomendation system"
   ]
  },
  {
   "cell_type": "markdown",
   "metadata": {},
   "source": [
    "H0: User who liked Batman Begins also like The Matrix<br>\n",
    "Ha: There is a difference in the a average likabiliy of these movies"
   ]
  },
  {
   "cell_type": "code",
   "execution_count": 13,
   "metadata": {},
   "outputs": [
    {
     "name": "stdout",
     "output_type": "stream",
     "text": [
      "\t\tH0: mean difference = 0\n",
      "\t\tHa: mean difference != 0\n",
      "\n",
      " userid  movie1  movie2  diff  diff2\n",
      " 512028     3.0     4.0  -1.0    1.0\n",
      "2404816     5.0     5.0   0.0    0.0\n",
      "1746668     4.0     3.0   1.0    1.0\n",
      "1281339     5.0     1.0   4.0   16.0\n",
      " 678157     4.0     2.0   2.0    4.0\n",
      "1206401     4.0     3.0   1.0    1.0\n",
      "1139570     4.0     3.0   1.0    1.0\n",
      "1709436     3.0     4.0  -1.0    1.0\n",
      "1338374     5.0     4.0   1.0    1.0\n",
      "2603779     5.0     4.0   1.0    1.0\n",
      " 671576     4.0     5.0  -1.0    1.0\n",
      "1248340     4.0     3.0   1.0    1.0\n",
      "2467154     2.0     3.0  -1.0    1.0\n",
      " 822193     4.0     3.0   1.0    1.0\n",
      "  32147     5.0     4.0   1.0    1.0\n",
      "  92659     5.0     3.0   2.0    4.0\n",
      " 718709     5.0     4.0   1.0    1.0\n",
      "2060093     4.0     2.0   2.0    4.0\n",
      "2316974     4.0     3.0   1.0    1.0\n",
      "1129235     5.0     5.0   0.0    0.0\n",
      " 366683     5.0     4.0   1.0    1.0\n",
      "1206376     4.0     3.0   1.0    1.0\n",
      "1019933     4.0     3.0   1.0    1.0\n",
      "2342897     5.0     4.0   1.0    1.0\n",
      "2099530     5.0     4.0   1.0    1.0\n",
      "Sample size:  25\n",
      "Degrees of freedom:  24\n",
      "alpha:  0.05\n",
      "t-statistic, t-critical: 3.80, 2.06\n",
      "| 3.80 | > 2.06\n",
      "\u001b[31mpaired sample t-test at alpha 0.05:\t Hypothesis rejected | H0: mean difference = 0\u001b[0m\n"
     ]
    }
   ],
   "source": [
    "reload(test)\n",
    "print(\"\\t\\tH0: mean difference = 0\")\n",
    "print(\"\\t\\tHa: mean difference != 0\\n\")\n",
    "test.paired_sample_t_test(paired_sample, 0.05)"
   ]
  },
  {
   "cell_type": "markdown",
   "metadata": {},
   "source": [
    "### 6. Proportion Test: 1 Sample"
   ]
  },
  {
   "cell_type": "markdown",
   "metadata": {},
   "source": [
    "\n",
    "H0: Proportion of movies released after 2000 rated 4 is 50%<br>\n",
    "Ha: p != 0.5"
   ]
  },
  {
   "cell_type": "code",
   "execution_count": 14,
   "metadata": {},
   "outputs": [
    {
     "name": "stdout",
     "output_type": "stream",
     "text": [
      "\t\tH0: for rating 4, p = 0.50\n",
      "\t\tHa: for rating 4, p != 0.50\n",
      "Sample size:  45\n",
      "np = 22.50, nq = 22.50\n",
      "\n",
      "sample proportion: 0.42\n",
      "alpha:  0.05\n",
      "z-statistic, z-critical: -1.04, 1.96\n",
      "|-1.04| < 1.96\n",
      "\u001b[32mone sample proportion test at alpha 0.05:\t Hypothesis accepted | H0: p = 0.50\u001b[0m\n"
     ]
    }
   ],
   "source": [
    "reload(test)\n",
    "null_hypothesis_prop = 0.5\n",
    "rating = 4\n",
    "print(\"\\t\\tH0: for rating %d, p = %.2f\"%(rating, null_hypothesis_prop))\n",
    "print(\"\\t\\tHa: for rating %d, p != %.2f\"%(rating, null_hypothesis_prop))\n",
    "test.proportion_test_one_sample(sample_dataset3, rating, null_hypothesis_prop, 0.05)"
   ]
  },
  {
   "cell_type": "markdown",
   "metadata": {},
   "source": [
    "### 7. Proportion Test: Two Sample"
   ]
  },
  {
   "cell_type": "code",
   "execution_count": 15,
   "metadata": {},
   "outputs": [
    {
     "name": "stdout",
     "output_type": "stream",
     "text": [
      "\t\tH0: for rating 4, p1 >= p2\n",
      "\t\tHa: for rating 4, p1 < p2\n",
      "Sample size 1:  45\n",
      "Sample size 2:  50\n",
      "n1p, n1q, n2p, n2q = 16.58, 28.42, 18.42, 31.58\n",
      "\n",
      "Sample proportions: 0.42, 0.32\n",
      "alpha:  0.05\n",
      "z-statistic, z-critical: 1.03, 1.96\n",
      "\u001b[32mtwo sample proportion test at alpha 0.05:\t Hypothesis accepted | H0: p1 < p2\u001b[0m\n"
     ]
    }
   ],
   "source": [
    "reload(test)\n",
    "rating = 4\n",
    "print(\"\\t\\tH0: for rating %d, p1 >= p2\"%(rating))\n",
    "print(\"\\t\\tHa: for rating %d, p1 < p2\"%(rating))\n",
    "\n",
    "test.proportion_test_two_sample(sample_dataset3, sample_dataset4, rating, 0.05)"
   ]
  },
  {
   "cell_type": "markdown",
   "metadata": {},
   "source": [
    "# UNIT 3"
   ]
  },
  {
   "cell_type": "markdown",
   "metadata": {},
   "source": [
    "### 1. Runs Test\n"
   ]
  },
  {
   "cell_type": "code",
   "execution_count": 16,
   "metadata": {},
   "outputs": [
    {
     "name": "stdout",
     "output_type": "stream",
     "text": [
      "\t\tRUNS TEST FOR RANDOMNESS OF THE SAMPLE\n",
      "H0: The sample is random\n",
      "Ha: The sample is not random\n",
      "Median:  4.0\n",
      "Runs data: \n",
      "B, A, B, B, A, A, A, B, B, B, A, B, A, B, A, \n",
      "Number of runs:  10\n",
      "A:  7\n",
      "B:  8\n",
      "alpha:  0.05\n",
      "Critical range:  (4, 13)\n",
      "Result at alpha = 0.05: \u001b[32mThe sample is random\u001b[0m\n",
      "[3, 4, 5, 3, 4, 2, 5, 5, 5, 3, 2, 3, 4, 4, 5, 3, 4, 5, 2, 5]\n"
     ]
    }
   ],
   "source": [
    "reload(test)\n",
    "null_hypothesis_median = 4\n",
    "print(\"\\t\\tRUNS TEST FOR RANDOMNESS OF THE SAMPLE\")\n",
    "print(\"H0: The sample is random\")\n",
    "print(\"Ha: The sample is not random\")\n",
    "test.runs_test(small_sample2, 0.05)\n",
    "print(small_sample2)"
   ]
  },
  {
   "cell_type": "markdown",
   "metadata": {},
   "source": [
    "### 2. Sign Test: One Sample"
   ]
  },
  {
   "cell_type": "markdown",
   "metadata": {},
   "source": [
    "Our claim is that the median ratings of 20th century movies was 4"
   ]
  },
  {
   "cell_type": "markdown",
   "metadata": {},
   "source": [
    "H0: Movies before 2000 have median = 4 <br>\n",
    "Ha: Median != 4\n"
   ]
  },
  {
   "cell_type": "code",
   "execution_count": 17,
   "metadata": {},
   "outputs": [
    {
     "name": "stdout",
     "output_type": "stream",
     "text": [
      "----------------------------------------\n",
      "\t\tSIGN TEST FOR THE HYPOTHESIS:\n",
      "H0: Median = 4.0\n",
      "Ha: Median < 4.0\n",
      "['-', '0', '0', '+', '+', '0', '-', '0', '+', '0', '0', '-', '0', '-', '-', '+', '0', '-', '-', '0', '+', '-', '+', '0', '+', '-', '+', '-', '-', '0', '+', '-', '+', '0', '0', '0', '+', '+', '0', '0', '0', '-', '-', '0', '0', '+', '0', '-', '+', '-', '0', '+', '+', '+', '0', '0', '-', '-', '+', '0', '+', '0', '0', '-', '-', '+', '+', '0', '-', '-', '0', '+', '0', '-', '-', '+', '-', '-', '0', '0', '0', '+', '0', '-', '0', '-', '0', '0', '0', '-', '0', '0', '-', '+', '-', '-', '-', '-', '+', '0']\n",
      "Sample size:  100\n",
      "alpha:  0.01\n",
      "z-statistic, z-critical: 1.42, 2.58\n",
      "\u001b[32mone sample sign test at alpha 0.01:\t Hypothesis accepted | H0: median=4.0\u001b[0m\n",
      "----------------------------------------\n"
     ]
    }
   ],
   "source": [
    "reload(test)\n",
    "null_hypothesis_median = 4\n",
    "\n",
    "print(\"----------------------------------------\")\n",
    "print(\"\\t\\tSIGN TEST FOR THE HYPOTHESIS:\")\n",
    "print(\"H0: Median = %.1f\"%null_hypothesis_median)\n",
    "print(\"Ha: Median < %.1f\"%null_hypothesis_median)\n",
    "# print(sample_dataset1)\n",
    "test.sign_test_one_sample(sample_dataset1, null_hypothesis_median, 0.01)\n",
    "print(\"----------------------------------------\")\n"
   ]
  },
  {
   "cell_type": "markdown",
   "metadata": {},
   "source": [
    "### 3. Sign Test: Paired Sample"
   ]
  },
  {
   "cell_type": "markdown",
   "metadata": {},
   "source": [
    " Our claim is users who liked 'Batman Begins' also preferred 'The Matrix: Reloaded' in the action genre."
   ]
  },
  {
   "cell_type": "markdown",
   "metadata": {},
   "source": [
    "H0: User who liked Batman Begins also like The Matrix<br>\n",
    "Ha: There is a difference in the a average likabiliy of these movies"
   ]
  },
  {
   "cell_type": "code",
   "execution_count": 18,
   "metadata": {},
   "outputs": [
    {
     "name": "stdout",
     "output_type": "stream",
     "text": [
      " userid  movie1  movie2 diff\n",
      " 512028     3.0     4.0    -\n",
      "2404816     5.0     5.0    0\n",
      "1746668     4.0     3.0    +\n",
      "1281339     5.0     1.0    +\n",
      " 678157     4.0     2.0    +\n",
      "1206401     4.0     3.0    +\n",
      "1139570     4.0     3.0    +\n",
      "1709436     3.0     4.0    -\n",
      "1338374     5.0     4.0    +\n",
      "2603779     5.0     4.0    +\n",
      " 671576     4.0     5.0    -\n",
      "1248340     4.0     3.0    +\n",
      "2467154     2.0     3.0    -\n",
      " 822193     4.0     3.0    +\n",
      "  32147     5.0     4.0    +\n",
      "  92659     5.0     3.0    +\n",
      " 718709     5.0     4.0    +\n",
      "2060093     4.0     2.0    +\n",
      "2316974     4.0     3.0    +\n",
      "1129235     5.0     5.0    0\n",
      " 366683     5.0     4.0    +\n",
      "1206376     4.0     3.0    +\n",
      "1019933     4.0     3.0    +\n",
      "2342897     5.0     4.0    +\n",
      "2099530     5.0     4.0    +\n",
      "Sample size:  25\n",
      "alpha:  0.05\n",
      "critical value: 6\n",
      "calculated score: 4\n",
      "\u001b[31mpaired sign test at alpha 0.05:\t\t Hypothesis rejected | H0: mean difference=0.0\u001b[0m\n"
     ]
    }
   ],
   "source": [
    "reload(test)\n",
    "\n",
    "test.sign_test_paired_sample(paired_sample, 0.05)\n"
   ]
  },
  {
   "cell_type": "markdown",
   "metadata": {},
   "source": [
    "### 4. Wilcoxon Rank Sum Test"
   ]
  },
  {
   "cell_type": "markdown",
   "metadata": {},
   "source": [
    "Our claim is that there is movies in the 20th century were more entertaining than the movies in the 21st century"
   ]
  },
  {
   "cell_type": "markdown",
   "metadata": {},
   "source": [
    "H0: There is <b>no difference</b> in the average ratings of movies before and after 2000 <br>\n",
    "Ha: There is a significant difference\n"
   ]
  },
  {
   "cell_type": "code",
   "execution_count": 19,
   "metadata": {},
   "outputs": [
    {
     "name": "stdout",
     "output_type": "stream",
     "text": [
      "Group A: released < 2000\tGroup B: released >= 2000\n",
      "\n",
      "rating    2    2    2    2    2    2     3     3     3     3     3     3     3     3     4     4     4     4     4     4     4     4     4     4     4     4     4     4     4     4     4     5     5     5     5     5     5     5     5     5     5     5     5     5     5\n",
      "group     B    B    A    B    A    A     B     A     B     A     B     B     B     A     B     A     B     A     A     A     B     A     A     A     A     B     A     A     A     A     B     B     B     A     B     B     B     A     A     A     A     A     A     B     B\n",
      "rank    3.5  3.5  3.5  3.5  3.5  3.5  10.5  10.5  10.5  10.5  10.5  10.5  10.5  10.5  23.0  23.0  23.0  23.0  23.0  23.0  23.0  23.0  23.0  23.0  23.0  23.0  23.0  23.0  23.0  23.0  23.0  38.5  38.5  38.5  38.5  38.5  38.5  38.5  38.5  38.5  38.5  38.5  38.5  38.5  38.5 \n",
      "\n",
      "Rank Sum =  587.5\n",
      "n1 =  25\n",
      "n2 =  20\n",
      "alpha:  0.05\n",
      "z-statistic, z-critical: 0.29, 1.96\n",
      "\u001b[32mWilcoxon rank sum test at alpha 0.05: Hypothesis accepted | H0: mean1 = mean2\u001b[0m\n"
     ]
    }
   ],
   "source": [
    "reload(test)\n",
    "print(\"Group A: released < 2000\\tGroup B: released >= 2000\\n\")\n",
    "test.wilcoxon_ran_sum_test(small_sample1, small_sample2, 0.05)"
   ]
  },
  {
   "cell_type": "markdown",
   "metadata": {},
   "source": [
    "### 5. Wilcoxon Signed-rank Test"
   ]
  },
  {
   "cell_type": "markdown",
   "metadata": {},
   "source": [
    " Our claim is users who liked 'Batman Begins' also preferred 'The Matrix: Reloaded' in the action genre.<br>\n",
    " This fact can be used to implement a reccomendation system"
   ]
  },
  {
   "cell_type": "markdown",
   "metadata": {},
   "source": [
    "H0: User who liked Batman Begins also like The Matrix<br>\n",
    "Ha: There is a difference in the a average likabiliy of these movies"
   ]
  },
  {
   "cell_type": "code",
   "execution_count": 20,
   "metadata": {},
   "outputs": [
    {
     "name": "stdout",
     "output_type": "stream",
     "text": [
      "Sample size:  35\n",
      " userid  movie1  movie2  diff  abs_diff  rank  signed_rank\n",
      "1682724     5.0     3.0   2.0       2.0  19.5         19.5\n",
      "1141193     5.0     2.0   3.0       3.0  23.5         23.5\n",
      "1667288     2.0     3.0  -1.0       1.0   9.0         -9.0\n",
      " 996592     4.0     3.0   1.0       1.0   9.0          9.0\n",
      "1473595     5.0     4.0   1.0       1.0   9.0          9.0\n",
      "2123141     4.0     5.0  -1.0       1.0   9.0         -9.0\n",
      "1043067     4.0     3.0   1.0       1.0   9.0          9.0\n",
      "2280287     5.0     2.0   3.0       3.0  23.5         23.5\n",
      " 924504     5.0     4.0   1.0       1.0   9.0          9.0\n",
      "  21652     5.0     2.0   3.0       3.0  23.5         23.5\n",
      "1443041     4.0     3.0   1.0       1.0   9.0          9.0\n",
      "1233091     5.0     2.0   3.0       3.0  23.5         23.5\n",
      " 811545     5.0     1.0   4.0       4.0  26.0         26.0\n",
      "1270517     4.0     3.0   1.0       1.0   9.0          9.0\n",
      " 497944     5.0     3.0   2.0       2.0  19.5         19.5\n",
      " 363680     3.0     2.0   1.0       1.0   9.0          9.0\n",
      "1287575     4.0     5.0  -1.0       1.0   9.0         -9.0\n",
      "1585012     4.0     3.0   1.0       1.0   9.0          9.0\n",
      "  58489     4.0     3.0   1.0       1.0   9.0          9.0\n",
      "2172829     2.0     1.0   1.0       1.0   9.0          9.0\n",
      "1242653     4.0     3.0   1.0       1.0   9.0          9.0\n",
      "1430799     5.0     4.0   1.0       1.0   9.0          9.0\n",
      "1095830     4.0     3.0   1.0       1.0   9.0          9.0\n",
      "1780885     5.0     3.0   2.0       2.0  19.5         19.5\n",
      " 367209     3.0     2.0   1.0       1.0   9.0          9.0\n",
      "1176909     4.0     2.0   2.0       2.0  19.5         19.5 \n",
      "\n",
      "z-statistic, z-critical: -3.77, 1.96\n",
      "\u001b[31mWilcoxon signed rank test at alpha 0.05: Hypothesis rejected | H0: mean1 = mean2\u001b[0m\n",
      "27.0\n"
     ]
    }
   ],
   "source": [
    "reload(test)\n",
    "test.wilcoxon_signed_rank_test(paired_sample3, 0.05)\n"
   ]
  },
  {
   "cell_type": "markdown",
   "metadata": {},
   "source": [
    "# UNIT 4"
   ]
  },
  {
   "cell_type": "code",
   "execution_count": 21,
   "metadata": {},
   "outputs": [
    {
     "name": "stdout",
     "output_type": "stream",
     "text": [
      "-----------------------Contingency Table----------------------\n",
      "movieid   186  3079  4012  4059  4305\n",
      "Category                             \n",
      "Bad         0     0     3     5     1\n",
      "Good       10    10     7     5     9\n",
      "degrees of freedom: 4\n",
      "\n",
      "\n",
      "dof:  4\n",
      "alpha:  0.05\n",
      "Chi-square Statistic: 2.2926829268292686\n",
      "Critical Value: 14.86\n",
      "\n",
      "\n",
      "Fail to reject the null hypothesis. There is not enough evidence of preference by users for particular movies.\n"
     ]
    }
   ],
   "source": [
    "reload(test)\n",
    "test.chi_square_good_fit_test(filtered_df1, random_movies1, 0.05)\n"
   ]
  },
  {
   "cell_type": "code",
   "execution_count": 22,
   "metadata": {},
   "outputs": [
    {
     "name": "stdout",
     "output_type": "stream",
     "text": [
      "-----------------------Observed Table----------------------\n",
      "\n",
      "movieid   3764  908\n",
      "Category           \n",
      "Bad          5    0\n",
      "Good         5   10\n",
      "-----------------------Expected Table----------------------\n",
      "\n",
      "movieid   3764  908\n",
      "Category           \n",
      "Bad        2.5  2.5\n",
      "Good       7.5  7.5\n",
      "Degrees of freedom: 1 \n",
      "\n",
      "Chi-square Statistic: 6.666666666666666\n",
      "Critical Value: 3.841458820694124\n",
      "Reject the null hypothesis. There is a no association on movie being good and released on a particular year\n"
     ]
    }
   ],
   "source": [
    "reload(test)\n",
    "test.chi_square_independence_test(filtered_df1, random_movies1, 0.05)"
   ]
  },
  {
   "cell_type": "code",
   "execution_count": 23,
   "metadata": {},
   "outputs": [
    {
     "name": "stdout",
     "output_type": "stream",
     "text": [
      "-----------------------Observed Table----------------------\n",
      "\n",
      "movieid   1992  3009  3710\n",
      "Category                  \n",
      "Bad          3     1     2\n",
      "Good         7     9     8\n",
      "-----------------------Expected Table----------------------\n",
      "\n",
      "movieid   1992  3009  3710\n",
      "Category                  \n",
      "Bad        2.0   2.0   2.0\n",
      "Good       8.0   8.0   8.0\n",
      "Degrees of freedom: 2 \n",
      "\n",
      "Chi-square Statistic: 1.25\n",
      "Critical Value: 5.991464547107979\n",
      "Fail to reject the null hypothesis.The proportion of good and bad ratings for all 3 movies released in a particular is same\n"
     ]
    }
   ],
   "source": [
    "reload(test)\n",
    "test.chi_square_homogenity_test(filtered_df1, random_movies1, 0.05)"
   ]
  },
  {
   "cell_type": "code",
   "execution_count": 24,
   "metadata": {},
   "outputs": [
    {
     "name": "stdout",
     "output_type": "stream",
     "text": [
      "-----------------------Observed Table----------------------\n",
      "\n",
      "movieid   228  3833\n",
      "Category           \n",
      "Bad         3     3\n",
      "Good        7     7\n",
      "There is a value less than 5 so Yates Correction test need to be applied\n"
     ]
    }
   ],
   "source": [
    "reload(test)\n",
    "test.two_by_two_contingency_test(filtered_df1, random_movies1, 0.05)\n",
    "#have to decide with hypothesis"
   ]
  },
  {
   "cell_type": "markdown",
   "metadata": {},
   "source": [
    "# UNIT 5"
   ]
  },
  {
   "cell_type": "markdown",
   "metadata": {},
   "source": [
    "### 1. Sample Size: One Sample"
   ]
  },
  {
   "cell_type": "markdown",
   "metadata": {},
   "source": [
    "What is the minimum sample size required to estimate the average user ratings of movies in the dataset at a 95% confidence level, with a margin of error less than 0.5 points, assuming a standard deviation of user ratings of 1.5 points"
   ]
  },
  {
   "cell_type": "code",
   "execution_count": 25,
   "metadata": {},
   "outputs": [
    {
     "name": "stdout",
     "output_type": "stream",
     "text": [
      "Minimum Sample Size: 35\n"
     ]
    }
   ],
   "source": [
    "import math\n",
    "\n",
    "z = 1.96  # for a 95% confidence level\n",
    "s = 1.5    #std deviation\n",
    "d = 0.5    #margin of error\n",
    "\n",
    "# Calculate minimum sample size using the formula\n",
    "min_sample_size = math.ceil((z * s/ d)**2)\n",
    "\n",
    "# Display the minimum sample size\n",
    "print(\"Minimum Sample Size:\", min_sample_size)\n"
   ]
  },
  {
   "cell_type": "markdown",
   "metadata": {},
   "source": [
    "### 2. Sample size for Samples with Proportion"
   ]
  },
  {
   "cell_type": "markdown",
   "metadata": {},
   "source": [
    "A researcher is interested in estimating the difference in the proportion of users giving positive ratings to two different genres of movies. Based on preliminary data, the researcher believes that the difference in proportions is around 0.1. Compute the minimum sample size required at a confidence level of 95%, accepting a difference of up to 5% of the true population, to estimate the proportion of users favoring one movie genre over the other"
   ]
  },
  {
   "cell_type": "code",
   "execution_count": 26,
   "metadata": {},
   "outputs": [
    {
     "name": "stdout",
     "output_type": "stream",
     "text": [
      "Minimum Sample Size: 139\n"
     ]
    }
   ],
   "source": [
    "import math\n",
    "\n",
    "# Researcher's values\n",
    "z = 1.96  # for a 95% confidence level\n",
    "p = 0.1  #proportion\n",
    "d = 0.05 #difference\n",
    "\n",
    "# Calculate minimum sample size using the formula\n",
    "min_sample_size = math.ceil((z**2 * p * (1 - p)) / d**2)\n",
    "\n",
    "# Display the minimum sample size\n",
    "print(\"Minimum Sample Size:\", min_sample_size)\n"
   ]
  },
  {
   "cell_type": "markdown",
   "metadata": {},
   "source": [
    "### 3. Sample size : two samples"
   ]
  },
  {
   "cell_type": "markdown",
   "metadata": {},
   "source": [
    " We are interested in comparing the average user ratings of movies between two genres. The researcher aims to determine the minimum sample size required to detect a difference of 0.5 or more points with a significance level (α) of 0.05 and a power of 90%, assuming a standard deviation (σ) of 1.5 points."
   ]
  },
  {
   "cell_type": "code",
   "execution_count": 27,
   "metadata": {},
   "outputs": [
    {
     "name": "stdout",
     "output_type": "stream",
     "text": [
      "z(1-a/2) is: 1.96\n",
      "z(1- β) is: 1.282\n",
      "Desired Difference (d) is: 0.5\n",
      "Total sample size required is: 378.380304\n",
      "Sample size 1 is: 190\n",
      "Sample size 2 is: 190\n"
     ]
    }
   ],
   "source": [
    "import math\n",
    "\n",
    "# Given values\n",
    "sd = 1.5\n",
    "za = 1.96\n",
    "zb = 1.282\n",
    "d = 0.5\n",
    "\n",
    "# Calculate total sample size\n",
    "N = (4 * sd**2 * (za + zb)**2) / d**2\n",
    "\n",
    "# Calculate individual sample sizes\n",
    "sample_size_1 = math.ceil(N / 2)\n",
    "sample_size_2 = math.ceil(N / 2)\n",
    "\n",
    "# Display the results\n",
    "print(\"z(1-a/2) is:\", za)\n",
    "print(\"z(1- β) is:\", zb)\n",
    "print(\"Desired Difference (d) is:\", d)\n",
    "print(\"Total sample size required is:\", N)\n",
    "print(\"Sample size 1 is:\", sample_size_1)\n",
    "print(\"Sample size 2 is:\", sample_size_2)\n"
   ]
  },
  {
   "cell_type": "markdown",
   "metadata": {},
   "source": [
    "### 4. Sample size for two samples with proportions"
   ]
  },
  {
   "cell_type": "markdown",
   "metadata": {},
   "source": [
    "It is observed that 45% of users in one movie genre consistently give high ratings, while only 20% of users in another genre show a similar trend. To investigate whether this observed difference is statistically significant, the researcher aims to determine the minimum sample sizes needed from each group. The significance level (α) is set at 0.05, and the researcher desires a power (1 - β) of 80% to detect the difference if it exists."
   ]
  },
  {
   "cell_type": "code",
   "execution_count": 28,
   "metadata": {},
   "outputs": [
    {
     "name": "stdout",
     "output_type": "stream",
     "text": [
      "alpha = 0.05\n",
      "beta: 0.1\n",
      "p1: 0.45\n",
      "p2: 0.2\n",
      "d: 0.25\n",
      "z(1-a/2): 1.96\n",
      "z(1-β): 1.282\n",
      "Total sample size required is: 148\n",
      "Sample size 1 is: 74\n",
      "Sample size 2 is: 74\n"
     ]
    }
   ],
   "source": [
    "import math\n",
    "\n",
    "# Given values\n",
    "alpha = 0.05\n",
    "beta = 0.1\n",
    "p1 = 0.45  # Proportion in states reporting COVID-19 cases\n",
    "p2 = 0.20  # Proportion in other regions\n",
    "d = p1 - p2\n",
    "\n",
    "# Z-values for alpha and beta\n",
    "z_alpha = 1.96\n",
    "z_beta = 1.282\n",
    "\n",
    "# Calculating required sample size\n",
    "prop = ((p1 + p2) / 2) * (1 - ((p1 + p2) / 2))\n",
    "N = 4 * prop * (z_alpha + z_beta)**2 / d**2\n",
    "\n",
    "# Displaying the results\n",
    "print(\"alpha =\", alpha)\n",
    "print(\"beta:\", beta)\n",
    "print(\"p1:\", p1)\n",
    "print(\"p2:\", p2)\n",
    "print(\"d:\", d)\n",
    "print(\"z(1-a/2):\", z_alpha)\n",
    "print(\"z(1-β):\", z_beta)\n",
    "print(\"Total sample size required is:\", math.ceil(N))\n",
    "print(\"Sample size 1 is:\", math.ceil(N / 2))\n",
    "print(\"Sample size 2 is:\", math.ceil(N / 2))\n"
   ]
  },
  {
   "cell_type": "markdown",
   "metadata": {},
   "source": [
    "# THANK YOU"
   ]
  },
  {
   "cell_type": "markdown",
   "metadata": {},
   "source": [
    "# EXTRA STUFF"
   ]
  },
  {
   "cell_type": "code",
   "execution_count": 29,
   "metadata": {},
   "outputs": [
    {
     "name": "stdout",
     "output_type": "stream",
     "text": [
      "3.59943371\n",
      "3.6\n",
      "ModeResult(mode=3.595, count=1185)\n"
     ]
    },
    {
     "data": {
      "image/png": "[encoded data removed]",
      "text/plain": [
       "<Figure size 640x480 with 1 Axes>"
      ]
     },
     "metadata": {},
     "output_type": "display_data"
    },
    {
     "name": "stdout",
     "output_type": "stream",
     "text": [
      "Kurtosis: 0.005280048704783713\n",
      "Skewness: -0.024257589110647584\n"
     ]
    }
   ],
   "source": [
    "\n",
    "import sampling as sm\n",
    "\n",
    "# Replace 'rating_column' with the actual column name containing ratings\n",
    "\n",
    "import pandas as pd\n",
    "import numpy as np\n",
    "import matplotlib.pyplot as plt\n",
    "from scipy.stats import kurtosis, skew\n",
    "from scipy.stats import mode\n",
    "\n",
    "\n",
    "# Assuming you have a DataFrame named 'df' with columns 'movieid', 'userid', 'rating', 'date'\n",
    "\n",
    "# Generate 1000 random samples of size n from the dataframe\n",
    "n_samples = 100000\n",
    "sample_means = []\n",
    "\n",
    "for _ in range(n_samples):\n",
    "    sample = df['rating'].sample(n=1000, replace=True)  # Adjust the fraction as needed\n",
    "    sample_mean = sample.mean()\n",
    "    sample_means.append(sample_mean)\n",
    "print(np.mean(sample_means))\n",
    "print(np.median(sample_means))\n",
    "print(mode(sample_means))\n",
    "\n",
    "# Plot the distribution of sample means\n",
    "plt.hist(sample_means, bins=30, edgecolor='black')\n",
    "plt.title('Distribution of Sample Means of Ratings')\n",
    "plt.xlabel('Sample Mean Rating')\n",
    "plt.ylabel('Frequency')\n",
    "plt.show()\n",
    "\n",
    "kurt = kurtosis(sample_means)\n",
    "skewness = skew(sample_means)\n",
    "\n",
    "print(f'Kurtosis: {kurt}')\n",
    "print(f'Skewness: {skewness}')\n",
    "\n"
   ]
  }
 ],
 "metadata": {
  "kernelspec": {
   "display_name": "Python 3",
   "language": "python",
   "name": "python3"
  },
  "language_info": {
   "codemirror_mode": {
    "name": "ipython",
    "version": 3
   },
   "file_extension": ".py",
   "mimetype": "text/x-python",
   "name": "python",
   "nbconvert_exporter": "python",
   "pygments_lexer": "ipython3",
   "version": "3.11.3"
  }
 },
 "nbformat": 4,
 "nbformat_minor": 2
}
